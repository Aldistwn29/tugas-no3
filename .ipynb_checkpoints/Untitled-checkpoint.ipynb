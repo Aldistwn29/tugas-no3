{
 "cells": [
  {
   "cell_type": "code",
   "execution_count": 1,
   "id": "b80e7e5d",
   "metadata": {},
   "outputs": [
    {
     "name": "stdout",
     "output_type": "stream",
     "text": [
      "hasil hitung :  7800\n"
     ]
    }
   ],
   "source": [
    "#membuat sebuah pemerograman sederhana hasi dari (angka1+500)+(angka2+500)-200\n",
    "#dik angka1 = 5000 angka2 = 20000 dan angka3 = 200\n",
    "#deklarasi variabel \n",
    "#500 di jsdiksn variabel = a\n",
    "angka1 = 5000\n",
    "angka2 = 2000\n",
    "angka3 = 200\n",
    "a = 500\n",
    "#membuat rumus yg yg di sebut \"hasil\"\n",
    "hasil = (angka1+a)+(angka2+a)-angka3\n",
    "#membuat output atau tampilan pada saat di jalankan \n",
    "print(\"hasil hitung : \",hasil)"
   ]
  },
  {
   "cell_type": "code",
   "execution_count": null,
   "id": "bd59bd1e",
   "metadata": {},
   "outputs": [],
   "source": []
  }
 ],
 "metadata": {
  "kernelspec": {
   "display_name": "Python 3 (ipykernel)",
   "language": "python",
   "name": "python3"
  },
  "language_info": {
   "codemirror_mode": {
    "name": "ipython",
    "version": 3
   },
   "file_extension": ".py",
   "mimetype": "text/x-python",
   "name": "python",
   "nbconvert_exporter": "python",
   "pygments_lexer": "ipython3",
   "version": "3.10.4"
  }
 },
 "nbformat": 4,
 "nbformat_minor": 5
}
